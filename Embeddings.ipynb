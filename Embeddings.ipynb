{
 "cells": [
  {
   "cell_type": "markdown",
   "metadata": {},
   "source": [
    "# Word2Vec with Gensim"
   ]
  },
  {
   "cell_type": "code",
   "execution_count": 3,
   "metadata": {},
   "outputs": [],
   "source": [
    "from gensim.models import KeyedVectors\n",
    "from os.path import join as pathjoin;"
   ]
  },
  {
   "cell_type": "markdown",
   "metadata": {},
   "source": [
    "## Configs"
   ]
  },
  {
   "cell_type": "code",
   "execution_count": 4,
   "metadata": {},
   "outputs": [],
   "source": [
    "base_path = 'C:/Users/landrade/Dropbox/python/dbdc3/'\n",
    "nilc300 = pathjoin(base_path,'Nilc_embeddings/skip_s300.txt')"
   ]
  },
  {
   "cell_type": "code",
   "execution_count": 5,
   "metadata": {},
   "outputs": [],
   "source": [
    "# carregar embeddings pre-treinados (NILC ou que vc mesmo salvou usando o procedimento a seguir)\n",
    "w2v = KeyedVectors.load_word2vec_format(nilc300)"
   ]
  },
  {
   "cell_type": "code",
   "execution_count": 16,
   "metadata": {},
   "outputs": [
    {
     "name": "stdout",
     "output_type": "stream",
     "text": [
      "False\n"
     ]
    }
   ],
   "source": [
    "from scipy.sparse import issparse\n",
    "print(issparse(w2v['leonardo']))"
   ]
  },
  {
   "cell_type": "code",
   "execution_count": 1,
   "metadata": {},
   "outputs": [
    {
     "ename": "NameError",
     "evalue": "name 'KeyedVectors' is not defined",
     "output_type": "error",
     "traceback": [
      "\u001b[1;31m---------------------------------------------------------------------------\u001b[0m",
      "\u001b[1;31mNameError\u001b[0m                                 Traceback (most recent call last)",
      "\u001b[1;32m<ipython-input-1-1ff799fd7aa6>\u001b[0m in \u001b[0;36m<module>\u001b[1;34m()\u001b[0m\n\u001b[0;32m      1\u001b[0m \u001b[1;31m# carregar embeddings pre-treinados (NILC ou que vc mesmo salvou usando o procedimento a seguir)\u001b[0m\u001b[1;33m\u001b[0m\u001b[1;33m\u001b[0m\u001b[0m\n\u001b[1;32m----> 2\u001b[1;33m \u001b[0mw2v\u001b[0m \u001b[1;33m=\u001b[0m \u001b[0mKeyedVectors\u001b[0m\u001b[1;33m.\u001b[0m\u001b[0mload_word2vec_format\u001b[0m\u001b[1;33m(\u001b[0m\u001b[0marquivo\u001b[0m\u001b[1;33m)\u001b[0m\u001b[1;33m\u001b[0m\u001b[0m\n\u001b[0m\u001b[0;32m      3\u001b[0m \u001b[1;33m\u001b[0m\u001b[0m\n\u001b[0;32m      4\u001b[0m \u001b[1;33m\u001b[0m\u001b[0m\n\u001b[0;32m      5\u001b[0m \u001b[1;31m#--------------------------------------------------------------------\u001b[0m\u001b[1;33m\u001b[0m\u001b[1;33m\u001b[0m\u001b[0m\n",
      "\u001b[1;31mNameError\u001b[0m: name 'KeyedVectors' is not defined"
     ]
    }
   ],
   "source": [
    "        \n",
    "\n",
    "\n",
    "#--------------------------------------------------------------------\n",
    "# treinar embeddings a partir do próprio texto e salvar em um arquivo de embeddings\n",
    "\n",
    "# cria vetor TFIDF e estruturas auxiliares (x_tfidf, vocab, dic e fanalyzer) \n",
    "# que serão usadas na criação dos embeddings ponderados depois, \n",
    "# a partir de uma coluna de texto \"textcol\" do dataframe\n",
    "text_column = df.loc[:,textcol].str.lower()                          \n",
    "text_column = text_column.values\n",
    "vect = TfidfVectorizer()\n",
    "x_tfidf = vect.fit_transform(df[textcol])\n",
    "vocab = vect.get_feature_names()\n",
    "dic = vect.vocabulary_\n",
    "fanalyzer = vect.build_analyzer() \n",
    "\n",
    "# transforma cada documento da coluna de textos em uma lista de tokens \n",
    "tokenList = []\n",
    "for item in text_column:\n",
    "    tokens = fanalyzer(item)\n",
    "    tokenList.append(tokens)\n",
    "\n",
    "# treina embeddings a partir do conjunto de listas de tokens criado\n",
    "model = Word2Vec(tokenList, size=300, window=1, min_count=1, sg=1, negative=10, hs=0, iter=5, workers=1, seed=10)            \n",
    "\n",
    "# salva modelo de embeddings criado\n",
    "model.wv.save(nomedoarquivo+\".kv\")\n",
    "\n",
    "#---------------------------------------------------------------\n",
    "\n",
    "# usando um modelo de embeddings para criar o vetor X de (300?) features de um documento\n",
    "\n",
    "# cria features X (de treinamento ou teste) a partir de uma coluna de texto\n",
    "# depois basta usar x_w2v como atributos de aprendizado em um classificador qualquer\n",
    "x_w2v = []\n",
    "dc = 0 # contador de documentos na coluna de texto\n",
    "for doc in text_col:\n",
    "\ttokens = fanalyzer(doc)   # transforma texto em lista de tokens\n",
    "\tfeatures = x_tfidf[dc,]   # contagens tfidf originais\n",
    "\tx_w2v.append(getWeightedDocumentVector(w2v, tokens, features, dic))\n",
    "\tdc = dc + 1\n",
    "\n",
    "# dado um documento (na forma de uma lista de tokens), retorna o embedding ponderado por TFIDF\n",
    "def getWeightedDocumentVector(w2v, tokens, features, dic):\n",
    "    vectors = []\n",
    "    tokens = [word for word in tokens if (word in w2v.vocab) ]\n",
    "    for word in tokens:\n",
    "        word_index = dic[word]\n",
    "        word_vector = w2v[word]  # numpy vector of a given word\n",
    "        word_tfidf = features[0,word_index]\n",
    "        vectors.append(word_vector * word_tfidf)\n",
    "    v = np.zeros(w2v.vector_size)\n",
    "    if len(vectors)==0:\n",
    "        return v\n",
    "    else:\n",
    "        for vector in vectors:\n",
    "            v = v + vector\n",
    "        return (v / len(vectors))"
   ]
  },
  {
   "cell_type": "code",
   "execution_count": null,
   "metadata": {},
   "outputs": [],
   "source": []
  }
 ],
 "metadata": {
  "kernelspec": {
   "display_name": "Python 3",
   "language": "python",
   "name": "python3"
  },
  "language_info": {
   "codemirror_mode": {
    "name": "ipython",
    "version": 3
   },
   "file_extension": ".py",
   "mimetype": "text/x-python",
   "name": "python",
   "nbconvert_exporter": "python",
   "pygments_lexer": "ipython3",
   "version": "3.7.0"
  }
 },
 "nbformat": 4,
 "nbformat_minor": 2
}
