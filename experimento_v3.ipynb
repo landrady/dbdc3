{
 "cells": [
  {
   "cell_type": "markdown",
   "metadata": {},
   "source": [
    " # Notebook para detecção de quebra de diálogo"
   ]
  },
  {
   "cell_type": "code",
   "execution_count": 14,
   "metadata": {},
   "outputs": [],
   "source": [
    "#imports\n",
    "from os.path import join as pathjoin;\n",
    "from os import listdir;\n",
    "import os;\n",
    "import json;\n",
    "import matplotlib.pyplot as plt;\n",
    "import pandas as pd;\n",
    "from sklearn.metrics import classification_report\n",
    "from sklearn.decomposition import PCA\n",
    "from sklearn.pipeline import FeatureUnion\n",
    "from sklearn.pipeline import Pipeline\n",
    "import numpy\n",
    "import sklearn.pipeline\n",
    "from gensim.models import KeyedVectors"
   ]
  },
  {
   "cell_type": "markdown",
   "metadata": {},
   "source": [
    "## Bases de desenvolvimento e teste"
   ]
  },
  {
   "cell_type": "code",
   "execution_count": 32,
   "metadata": {},
   "outputs": [],
   "source": [
    "base_path = 'C:/Users/landrade/Dropbox/python/dbdc3/'\n",
    "#base_path = 'C:/Users/Leonardo de Andrade/Dropbox/python/dbdc3/'\n",
    "dev_data_path = pathjoin(base_path,'data/dbdc3/en/crf_baseline/train')\n",
    "eval_data_path = pathjoin(base_path,'data/dbdc3/en/crf_baseline/test')\n",
    "output_data_path = pathjoin(base_path, 'data/dbdc3/en/experimento_v2_out/')\n",
    "wikpediaW2Vec = pathjoin(base_path,'wikpedia_embeddings/model.txt')"
   ]
  },
  {
   "cell_type": "code",
   "execution_count": 3,
   "metadata": {},
   "outputs": [],
   "source": [
    "def separateEval(originPath, destinationPath, count):\n",
    "    files = listdir(originPath)\n",
    "    eval_files = numpy.random.choice(files,count,False)\n",
    "    if not os.path.exists(destinationPath):\n",
    "        os.makedirs(destinationPath)\n",
    "    for file in eval_files:\n",
    "        os.rename(pathjoin(originPath,file),pathjoin(destinationPath,file))"
   ]
  },
  {
   "cell_type": "markdown",
   "metadata": {},
   "source": [
    "## Separando 30% em arquivos de teste"
   ]
  },
  {
   "cell_type": "code",
   "execution_count": 7,
   "metadata": {},
   "outputs": [],
   "source": [
    "# Comentando para não correr o risco de rodar novamente\n",
    "#separateEval(cic_dev_path,cic_eval_path,34)\n",
    "#separateEval(iris_dev_path,iris_eval_path,30)\n",
    "#separateEval(tktk_dev_path,tktk_eval_path,30)\n",
    "#separateEval(yi_dev_path,yi_eval_path,30)"
   ]
  },
  {
   "cell_type": "markdown",
   "metadata": {},
   "source": [
    "### Funções úteis"
   ]
  },
  {
   "cell_type": "code",
   "execution_count": 4,
   "metadata": {},
   "outputs": [],
   "source": [
    "def loadConversations(path):\n",
    "    conversations = []\n",
    "    for f in listdir(path):\n",
    "        if '.log.json' in f:\n",
    "            json_obj = json.load(open(pathjoin(path,f), encoding='utf-8'))\n",
    "            json_obj['file_name'] = f\n",
    "            conversations.append(json_obj)\n",
    "    return conversations"
   ]
  },
  {
   "cell_type": "code",
   "execution_count": 5,
   "metadata": {},
   "outputs": [],
   "source": [
    "def SetMajorityVoteAndDistribution(conversations, threshold):\n",
    "    for c in conversations:\n",
    "        for t in c['turns']:\n",
    "            count={}\n",
    "            count['O']=0\n",
    "            count['T']=0\n",
    "            count['X']=0\n",
    "            hasAnnotations = False\n",
    "            for a in t['annotations']:\n",
    "                hasAnnotations = True\n",
    "                count[a['breakdown']] +=1\n",
    "            del t['annotations']\n",
    "            if hasAnnotations:\n",
    "                #distribution\n",
    "                t['O'] = count['O']*1.0 / (count['O'] + count['T'] + count['X'])\n",
    "                t['T'] = count['T']*1.0 / (count['O'] + count['T'] + count['X'])\n",
    "                t['X'] = count['X']*1.0 / (count['O'] + count['T'] + count['X']) \n",
    "                #majorityVoting\n",
    "                t['class'] = 'O'\n",
    "                t['class'] = 'X' if t['X']>=t['T'] and t['X']>=t['O'] and t['X']>=threshold else t['class']\n",
    "                t['class'] = 'T' if t['T']>=t['O'] and t['T']>=t['X'] and t['T']>=threshold else t['class']\n",
    "                t['class'] = 'O' if t['O']>=t['T'] and t['O']>=t['X'] and t['O']>=threshold else t['class']\n",
    "                \n",
    "    return conversations\n",
    "        "
   ]
  },
  {
   "cell_type": "code",
   "execution_count": 6,
   "metadata": {},
   "outputs": [],
   "source": [
    "def ConversationClassCount(conversations):\n",
    "    count={}\n",
    "    count['O']=0\n",
    "    count['T']=0\n",
    "    count['X']=0\n",
    "    for c in conversations:\n",
    "        for t in c['turns']:\n",
    "            if 'class' in t:\n",
    "                count[t['class']] += 1\n",
    "    return count"
   ]
  },
  {
   "cell_type": "code",
   "execution_count": 7,
   "metadata": {},
   "outputs": [],
   "source": [
    "def printHistogram(data,name):\n",
    "    print('O = not a breakdown, T = possible breakdown, and X = breakdown')\n",
    "    dataSum = ConversationClassCount(data)\n",
    "    plt.hist(list(dataSum.keys()), weights=list(dataSum.values()))\n",
    "    plt.title(name)\n",
    "    plt.show()"
   ]
  },
  {
   "cell_type": "code",
   "execution_count": 190,
   "metadata": {},
   "outputs": [],
   "source": [
    "def saveJson(outputPath, fileName, data):\n",
    "    fileToSave = pathjoin(outputPath, fileName.replace('.log.json','.labels.json'))\n",
    "    with open(fileToSave, 'w') as file:\n",
    "        #print(data)\n",
    "        file.write(json.dumps(data))"
   ]
  },
  {
   "cell_type": "code",
   "execution_count": 191,
   "metadata": {},
   "outputs": [],
   "source": [
    "def outputFiles(outputPath, pipeline, test):\n",
    "    test.sort_values(['file_name', 'user-index'], ascending=[True, True])\n",
    "    data = {}\n",
    "    data['turns'] = []\n",
    "    size = test.shape[0]\n",
    "    for i in range(size):\n",
    "        data['dialogue-id'] = test.iloc[i]['dialogue-id']\n",
    "        predictedValue = pipeline.predict(test.iloc[[i]])\n",
    "        predictedProba = pipeline.predict_proba(test.iloc[[i]])\n",
    "        \n",
    "        turn ={}\n",
    "        turn['turn-index'] = int(test.iloc[i]['system-index'])\n",
    "        turn['labels'] = []\n",
    "        \n",
    "        label ={}\n",
    "        label['breakdown'] = predictedValue[0]\n",
    "        label['prob-O'] = predictedProba[0][0]\n",
    "        label['prob-T'] = predictedProba[0][1]\n",
    "        label['prob-X'] = predictedProba[0][2] \n",
    "        \n",
    "        turn['labels'].append(label)        \n",
    "        data['turns'].append(turn)\n",
    "        if  i == size-1 or test.iloc[i]['file_name'] != test.iloc[i+1]['file_name']:\n",
    "            saveJson(outputPath, test.iloc[i]['file_name'], data)\n",
    "            data = {}\n",
    "            data['turns'] = []\n",
    "            \n",
    "        \n",
    "outputFiles(output_data_path,pipeline, test)"
   ]
  },
  {
   "cell_type": "markdown",
   "metadata": {},
   "source": [
    "## Carregando Word2vec"
   ]
  },
  {
   "cell_type": "code",
   "execution_count": 40,
   "metadata": {},
   "outputs": [],
   "source": [
    "w2v = KeyedVectors.load_word2vec_format(wikpediaW2Vec)"
   ]
  },
  {
   "cell_type": "code",
   "execution_count": 79,
   "metadata": {},
   "outputs": [],
   "source": [
    "def Document2Vec(text,w2v):\n",
    "    tokens = text.split()\n",
    "    tokens = [word.lower() for word in tokens if (word.lower() in w2v.vocab)]\n",
    "    count = 0\n",
    "    vector = np.array([0]*w2v.vector_size)\n",
    "    for word in tokens:\n",
    "        vector = vector + w2v[word]\n",
    "        count = count + 1\n",
    "    if count ==0:\n",
    "        count =1\n",
    "    return vector / count"
   ]
  },
  {
   "cell_type": "markdown",
   "metadata": {},
   "source": [
    "## Computando distribuição e voto majoritário"
   ]
  },
  {
   "cell_type": "code",
   "execution_count": 8,
   "metadata": {},
   "outputs": [],
   "source": [
    "json_dev_dev = SetMajorityVoteAndDistribution(loadConversations(dev_data_path),0)\n",
    "json_dev_test = SetMajorityVoteAndDistribution(loadConversations(eval_data_path),0)"
   ]
  },
  {
   "cell_type": "markdown",
   "metadata": {},
   "source": [
    "## Histograma de cada conjunto"
   ]
  },
  {
   "cell_type": "code",
   "execution_count": 4,
   "metadata": {},
   "outputs": [],
   "source": [
    "#printHistogram(cic_data,'CIC')\n",
    "#printHistogram(iris_data,'IRIS')\n",
    "#printHistogram(tktk_data,'TKTK')\n",
    "#printHistogram(yi_data,'YI')"
   ]
  },
  {
   "cell_type": "markdown",
   "metadata": {},
   "source": [
    "## Montando o conjunto"
   ]
  },
  {
   "cell_type": "code",
   "execution_count": 9,
   "metadata": {},
   "outputs": [],
   "source": [
    "def PrepareDataSet(conversations):\n",
    "    items = conversations.copy()\n",
    "    result = []\n",
    "    for c in items:\n",
    "        if c['turns'][0]['speaker']=='S':\n",
    "            del c['turns'][0]\n",
    "        turns_len = len(c['turns'])\n",
    "        for i in range(0,turns_len,2):\n",
    "            if i+1<turns_len and c['turns'][i]['speaker'] == 'U' and c['turns'][i+1]['speaker'] == 'S':\n",
    "                line = {}\n",
    "                line['file_name'] = c['file_name']\n",
    "                line['dialogue-id'] = c['dialogue-id']\n",
    "                line['user-index'] = c['turns'][i]['turn-index']\n",
    "                line['user-utterance'] = c['turns'][i]['utterance']\n",
    "                line['system-index'] = c['turns'][i+1]['turn-index']\n",
    "                line['system-utterance'] = c['turns'][i+1]['utterance']\n",
    "                line['O'] = c['turns'][i+1]['O']\n",
    "                line['T'] = c['turns'][i+1]['T']\n",
    "                line['X'] = c['turns'][i+1]['X']\n",
    "                line['class'] = c['turns'][i+1]['class']\n",
    "                result.append(line)\n",
    "    return result"
   ]
  },
  {
   "cell_type": "code",
   "execution_count": 200,
   "metadata": {},
   "outputs": [],
   "source": [
    "def PrepareDataSetWithTail(conversations, w2v):\n",
    "    items = conversations.copy()\n",
    "    result = []\n",
    "    for c in items:\n",
    "        if c['turns'][0]['speaker']=='S':\n",
    "            del c['turns'][0]\n",
    "        turns_len = len(c['turns'])\n",
    "        userTurnTail = ''\n",
    "        systemTurnTail = ''\n",
    "        for i in range(0,turns_len,2):\n",
    "            if i+1<turns_len and c['turns'][i]['speaker'] == 'U' and c['turns'][i+1]['speaker'] == 'S':\n",
    "                line = {}\n",
    "                line['file_name'] = c['file_name']\n",
    "                line['dialogue-id'] = c['dialogue-id']\n",
    "                line['user-index'] = c['turns'][i]['turn-index']\n",
    "                \n",
    "                userTurnTail = userTurnTail + ' ' + c['turns'][i]['utterance']\n",
    "                line['user-utterance'] = c['turns'][i]['utterance']\n",
    "                \n",
    "                systemTurnTail = systemTurnTail + ' ' + c['turns'][i+1]['utterance']\n",
    "                line['system-utterance'] = c['turns'][i+1]['utterance']\n",
    "                \n",
    "                line['user-utterance-tail'] = userTurnTail\n",
    "                line['system-utterance-tail'] = systemTurnTail\n",
    "                \n",
    "                line['system-index'] = c['turns'][i+1]['turn-index']                \n",
    "                line['O'] = c['turns'][i+1]['O']\n",
    "                line['T'] = c['turns'][i+1]['T']\n",
    "                line['X'] = c['turns'][i+1]['X']\n",
    "                line['class'] = c['turns'][i+1]['class']\n",
    "                result.append(line)\n",
    "    return result"
   ]
  },
  {
   "cell_type": "markdown",
   "metadata": {},
   "source": [
    "## Transformers"
   ]
  },
  {
   "cell_type": "code",
   "execution_count": 130,
   "metadata": {},
   "outputs": [],
   "source": [
    "from sklearn.base import BaseEstimator, TransformerMixin\n",
    "class ItemSelector(BaseEstimator, TransformerMixin):\n",
    "    def __init__(self, key):\n",
    "        self.key = key\n",
    "\n",
    "    def fit(self, x, y=None):\n",
    "        return self\n",
    "\n",
    "    def transform(self, data_dict):\n",
    "        return data_dict[self.key]"
   ]
  },
  {
   "cell_type": "code",
   "execution_count": 182,
   "metadata": {},
   "outputs": [],
   "source": [
    "from sklearn.base import BaseEstimator, TransformerMixin\n",
    "class W2VecSelector(BaseEstimator, TransformerMixin):\n",
    "    def __init__(self, w2v):\n",
    "        self.w2v = w2v\n",
    "\n",
    "    def fit(self, x, y=None):\n",
    "        return self\n",
    "\n",
    "    def transform(self, X):\n",
    "        return [Document2Vec(text,self.w2v) for text in X]"
   ]
  },
  {
   "cell_type": "code",
   "execution_count": 132,
   "metadata": {},
   "outputs": [],
   "source": [
    "from sklearn.base import BaseEstimator\n",
    "from scipy.sparse import issparse\n",
    "\n",
    "class DenseTransformer(BaseEstimator):\n",
    "    \"\"\"Convert a sparse array into a dense array.\"\"\"\n",
    "\n",
    "    def __init__(self, return_copy=True):\n",
    "        self.return_copy = return_copy\n",
    "        self.is_fitted = False\n",
    "\n",
    "    def transform(self, X, y=None):\n",
    "        \"\"\" Return a dense version of the input array.\n",
    "        Parameters\n",
    "        ----------\n",
    "        X : {array-like, sparse matrix}, shape = [n_samples, n_features]\n",
    "            Training vectors, where n_samples is the number of samples and\n",
    "            n_features is the number of features.\n",
    "        y : array-like, shape = [n_samples] (default: None)\n",
    "        Returns\n",
    "        ---------\n",
    "        X_dense : dense version of the input X array.\n",
    "        \"\"\"\n",
    "        if issparse(X):\n",
    "            return X.toarray()\n",
    "        elif self.return_copy:\n",
    "            return X.copy()\n",
    "        else:\n",
    "            return X\n",
    "\n",
    "    def fit(self, X, y=None):\n",
    "        self.is_fitted = True\n",
    "        return self\n",
    "\n",
    "    def fit_transform(self, X, y=None):\n",
    "        \"\"\" Return a dense version of the input array.\n",
    "        Parameters\n",
    "        ----------\n",
    "        X : {array-like, sparse matrix}, shape = [n_samples, n_features]\n",
    "            Training vectors, where n_samples is the number of samples and\n",
    "            n_features is the number of features.\n",
    "        y : array-like, shape = [n_samples] (default: None)\n",
    "        Returns\n",
    "        ---------\n",
    "        X_dense : dense version of the input X array.\n",
    "        \"\"\"\n",
    "        return self.transform(X=X, y=y)"
   ]
  },
  {
   "cell_type": "code",
   "execution_count": 212,
   "metadata": {},
   "outputs": [],
   "source": [
    "from scipy import sparse\n",
    "\n",
    "class EmbeddingVectorizer(BaseEstimator):\n",
    "    def _init_(self,norm=None,analyzer='word',min_df=1,lowercase=False,sublinear_tf=True,use_idf=True,binary=False):\n",
    "        self.norm        = norm;\n",
    "        self.analyzer    = analyzer;\n",
    "        self.min_df      = min_df;\n",
    "        self.lowercase   = lowercase;\n",
    "        self.sublinear_tf= sublinear_tf;\n",
    "        self.use_idf     = use_idf;\n",
    "        self.binary      = binary;\n",
    "        \n",
    "    def fit(self, X, y=None):\n",
    "        self.dim_ = len(embeddingsCache.vectors[0]);\n",
    "        #self.dim_ = len(embeddingsCache[list(embeddingsCache.keys())[0]])\n",
    "        self.vect = TfidfVectorizer(**self.get_params())\n",
    "        self.vect.fit(X,y);\n",
    "        self.word_vectors_ = np.zeros((len(self.vect.vocabulary_), self.dim_));\n",
    "        \n",
    "        #this arrays says if a word in the vocab has \n",
    "        self.missingWord_  = np.zeros(len(self.vect.vocabulary_),dtype=np.int8);\n",
    "        \n",
    "        blank = np.zeros(self.dim_);\n",
    "\n",
    "        for  word, index in self.vect.vocabulary_.items():\n",
    "            temp = blank.copy();\n",
    "            for w in [word, word.lower(), word.capitalize()]:\n",
    "                if w in embeddingsCache:\n",
    "                    temp = embeddingsCache[w];\n",
    "                    break;\n",
    "            if temp.sum() == 0 :\n",
    "                self.missingWord_[index] = 1;\n",
    "            self.word_vectors_[index,:] = temp;\n",
    "        return self\n",
    "    \n",
    "    def transform(self, X):\n",
    "        import gc;\n",
    "        gc.collect()\n",
    "        X = self.vect.transform(X);\n",
    "        \n",
    "        X = sparse.csc_matrix(X);\n",
    "        V = sparse.csc_matrix(self.word_vectors_);\n",
    "        M = sparse.csc_matrix(self.missingWord_).T;\n",
    "        \n",
    "        missing = (X>0).dot(M)/(X>0).sum(axis=1);\n",
    "        missing = sparse.csc_matrix(missing.reshape(-1,1));\n",
    "        \n",
    "        #memory friendly dot product\n",
    "        X  = X.dot(V)/X.sum(axis=1);\n",
    "        \n",
    "        #last columns will contain the embedding coverage\n",
    "        X = sparse.hstack([X,missing]);\n",
    "        \n",
    "        return X;\n",
    "    \n",
    "    def fit_transform(self, X, y=None):\n",
    "        self.fit(X,y);\n",
    "        return self.transform(X)\n",
    "    \n",
    "    def get_feature_names():\n",
    "        return self.vect.get_feature_names();"
   ]
  },
  {
   "cell_type": "code",
   "execution_count": 133,
   "metadata": {},
   "outputs": [],
   "source": [
    "import numpy as np\n",
    "class ArrayCaster(BaseEstimator, TransformerMixin):\n",
    "  def fit(self, x, y=None):\n",
    "    return self\n",
    "\n",
    "  def transform(self, data):\n",
    "    return np.transpose(np.matrix(data))"
   ]
  },
  {
   "cell_type": "markdown",
   "metadata": {},
   "source": [
    "## Monta o dataset"
   ]
  },
  {
   "cell_type": "code",
   "execution_count": 203,
   "metadata": {},
   "outputs": [],
   "source": [
    "train = pd.DataFrame(PrepareDataSetWithTail(json_dev_dev,w2v))\n",
    "test = pd.DataFrame(PrepareDataSetWithTail(json_dev_test,w2v))"
   ]
  },
  {
   "cell_type": "code",
   "execution_count": 205,
   "metadata": {},
   "outputs": [
    {
     "name": "stdout",
     "output_type": "stream",
     "text": [
      "<class 'pandas.core.frame.DataFrame'>\n",
      "RangeIndex: 2910 entries, 0 to 2909\n",
      "Data columns (total 12 columns):\n",
      "O                        2910 non-null float64\n",
      "T                        2910 non-null float64\n",
      "X                        2910 non-null float64\n",
      "class                    2910 non-null object\n",
      "dialogue-id              2910 non-null object\n",
      "file_name                2910 non-null object\n",
      "system-index             2910 non-null int64\n",
      "system-utterance         2910 non-null object\n",
      "system-utterance-tail    2910 non-null object\n",
      "user-index               2910 non-null int64\n",
      "user-utterance           2910 non-null object\n",
      "user-utterance-tail      2910 non-null object\n",
      "dtypes: float64(3), int64(2), object(7)\n",
      "memory usage: 272.9+ KB\n"
     ]
    }
   ],
   "source": [
    "train.info()"
   ]
  },
  {
   "cell_type": "code",
   "execution_count": 170,
   "metadata": {},
   "outputs": [],
   "source": []
  },
  {
   "cell_type": "code",
   "execution_count": 175,
   "metadata": {},
   "outputs": [],
   "source": []
  },
  {
   "cell_type": "code",
   "execution_count": null,
   "metadata": {},
   "outputs": [],
   "source": []
  },
  {
   "cell_type": "code",
   "execution_count": 213,
   "metadata": {},
   "outputs": [],
   "source": [
    "from sklearn.feature_extraction.text import TfidfVectorizer\n",
    "from sklearn.svm import SVC\n",
    "pipeline = sklearn.pipeline.Pipeline([\n",
    "    ('union', FeatureUnion(\n",
    "        transformer_list=[\n",
    "\n",
    "            ('user-utterance', Pipeline([\n",
    "                ('selector', ItemSelector(key='user-utterance')),\n",
    "                ('tfidf', TfidfVectorizer(min_df=2,ngram_range=(1,2))),\n",
    "                ('sparse',DenseTransformer()),\n",
    "                ('pca',PCA(0.999)),\n",
    "            ])),\n",
    "\n",
    "            ('system-utterance', Pipeline([\n",
    "                ('selector', ItemSelector(key='system-utterance')),\n",
    "                ('tfidf', TfidfVectorizer(min_df=2,ngram_range=(1,2))),\n",
    "                ('sparse',DenseTransformer()),\n",
    "                ('pca',PCA(0.999)),\n",
    "            ])),\n",
    "            \n",
    "            ('user-utterance-vector', Pipeline([\n",
    "                ('selector', ItemSelector(key='user-utterance-tail'))\n",
    "                ,('W2VecSelector', W2VecSelector(w2v))\n",
    "            ])),\n",
    "            \n",
    "            ('system-utterance-vector', Pipeline([\n",
    "                ('selector', ItemSelector(key='system-utterance-tail'))\n",
    "                ,('W2VecSelector', W2VecSelector(w2v))\n",
    "            ])),\n",
    "\n",
    "            ('user-turn', Pipeline([\n",
    "                ('selector', ItemSelector(key='user-index')),\n",
    "                ('caster', ArrayCaster())\n",
    "            ])),\n",
    "            \n",
    "            ('system-turn', Pipeline([\n",
    "                ('selector', ItemSelector(key='system-index')),\n",
    "                ('caster', ArrayCaster())\n",
    "            ])),\n",
    "\n",
    "        ],\n",
    "\n",
    "        # weight components in FeatureUnion\n",
    "        transformer_weights={\n",
    "            'user-utterance': 1.0,\n",
    "            'system-utterance': 1.0,\n",
    "            'user-utterance-tail': 1.0,\n",
    "            'system-utterance-tail': 1.0,\n",
    "            'user-turn': 1.0,\n",
    "            'system-turn':1.0\n",
    "        },\n",
    "    )),\n",
    "\n",
    "    # Use a SVC classifier on the combined features\n",
    "    ('svc', SVC(kernel='linear', probability=True)),\n",
    "])"
   ]
  },
  {
   "cell_type": "code",
   "execution_count": 209,
   "metadata": {},
   "outputs": [
    {
     "data": {
      "text/plain": [
       "Pipeline(memory=None,\n",
       "     steps=[('union', FeatureUnion(n_jobs=1,\n",
       "       transformer_list=[('user-utterance', Pipeline(memory=None,\n",
       "     steps=[('selector', ItemSelector(key='user-utterance')), ('tfidf', TfidfVectorizer(analyzer='word', binary=False, decode_error='strict',\n",
       "        dtype=<class 'numpy.int64'>, encoding='utf-8...',\n",
       "  max_iter=-1, probability=True, random_state=None, shrinking=True,\n",
       "  tol=0.001, verbose=False))])"
      ]
     },
     "execution_count": 209,
     "metadata": {},
     "output_type": "execute_result"
    }
   ],
   "source": [
    "pipeline.fit(train, train['class'])"
   ]
  },
  {
   "cell_type": "code",
   "execution_count": 166,
   "metadata": {},
   "outputs": [],
   "source": []
  },
  {
   "cell_type": "code",
   "execution_count": 109,
   "metadata": {
    "scrolled": false
   },
   "outputs": [],
   "source": []
  },
  {
   "cell_type": "code",
   "execution_count": 93,
   "metadata": {},
   "outputs": [
    {
     "data": {
      "text/plain": [
       "'CIC0009.log.json'"
      ]
     },
     "execution_count": 93,
     "metadata": {},
     "output_type": "execute_result"
    }
   ],
   "source": [
    "xpto = pipeline.predict_proba(test.iloc[[1]])\n",
    "#xpto[0][2]\n",
    "#pipeline.predict(test.iloc[[1]])\n",
    "test.iloc[1].file_name"
   ]
  },
  {
   "cell_type": "code",
   "execution_count": 211,
   "metadata": {},
   "outputs": [
    {
     "name": "stdout",
     "output_type": "stream",
     "text": [
      "             precision    recall  f1-score   support\n",
      "\n",
      "          O       0.59      0.59      0.59       426\n",
      "          T       0.34      0.44      0.39       232\n",
      "          X       0.66      0.58      0.62       582\n",
      "\n",
      "avg / total       0.58      0.56      0.56      1240\n",
      "\n"
     ]
    }
   ],
   "source": [
    "y = pipeline.predict(test)\n",
    "print(classification_report(y, test['class']))"
   ]
  },
  {
   "cell_type": "code",
   "execution_count": 30,
   "metadata": {},
   "outputs": [
    {
     "name": "stdout",
     "output_type": "stream",
     "text": [
      "             precision    recall  f1-score   support\n",
      "\n",
      "          O       0.59      0.58      0.59       437\n",
      "          T       0.30      0.42      0.35       214\n",
      "          X       0.65      0.56      0.60       589\n",
      "\n",
      "avg / total       0.57      0.54      0.55      1240\n",
      "\n"
     ]
    }
   ],
   "source": [
    "y = pipeline.predict(test)\n",
    "print(classification_report(y, test['class']))"
   ]
  },
  {
   "cell_type": "code",
   "execution_count": 70,
   "metadata": {},
   "outputs": [
    {
     "data": {
      "text/plain": [
       "(array([358., 336., 222., 160.,  39.,  18.,  13.,   1.,   1.,   2.]),\n",
       " array([ 0. ,  2.3,  4.6,  6.9,  9.2, 11.5, 13.8, 16.1, 18.4, 20.7, 23. ]),\n",
       " <a list of 10 Patch objects>)"
      ]
     },
     "execution_count": 70,
     "metadata": {},
     "output_type": "execute_result"
    },
    {
     "data": {
      "image/png": "[encoded data removed]",
      "text/plain": [
       "<Figure size 432x288 with 1 Axes>"
      ]
     },
     "metadata": {},
     "output_type": "display_data"
    }
   ],
   "source": [
    "plt.hist( (  CountVectorizer().fit_transform(train['user-utterance']) >0 ).sum(axis=1))"
   ]
  },
  {
   "cell_type": "code",
   "execution_count": 71,
   "metadata": {},
   "outputs": [
    {
     "data": {
      "text/plain": [
       "(array([669., 238., 143.,  47.,  25.,  13.,   5.,   5.,   3.,   2.]),\n",
       " array([ 0. ,  4.1,  8.2, 12.3, 16.4, 20.5, 24.6, 28.7, 32.8, 36.9, 41. ]),\n",
       " <a list of 10 Patch objects>)"
      ]
     },
     "execution_count": 71,
     "metadata": {},
     "output_type": "execute_result"
    },
    {
     "data": {
      "image/png": "[encoded data removed]",
      "text/plain": [
       "<Figure size 432x288 with 1 Axes>"
      ]
     },
     "metadata": {},
     "output_type": "display_data"
    }
   ],
   "source": [
    "plt.hist( (  CountVectorizer(binary=True).fit_transform(train['system-utterance']) >0 ).sum(axis=1))"
   ]
  },
  {
   "cell_type": "code",
   "execution_count": 78,
   "metadata": {},
   "outputs": [
    {
     "data": {
      "image/png": "[encoded data removed]",
      "text/plain": [
       "<Figure size 432x288 with 1 Axes>"
      ]
     },
     "metadata": {},
     "output_type": "display_data"
    }
   ],
   "source": [
    "plt.hist(np.array(CountVectorizer(binary=True,max_df=6).fit_transform(train['user-utterance']).sum(axis=0))[0]);"
   ]
  },
  {
   "cell_type": "code",
   "execution_count": null,
   "metadata": {},
   "outputs": [],
   "source": []
  }
 ],
 "metadata": {
  "kernelspec": {
   "display_name": "Python 3",
   "language": "python",
   "name": "python3"
  },
  "language_info": {
   "codemirror_mode": {
    "name": "ipython",
    "version": 3
   },
   "file_extension": ".py",
   "mimetype": "text/x-python",
   "name": "python",
   "nbconvert_exporter": "python",
   "pygments_lexer": "ipython3",
   "version": "3.7.0"
  }
 },
 "nbformat": 4,
 "nbformat_minor": 2
}
